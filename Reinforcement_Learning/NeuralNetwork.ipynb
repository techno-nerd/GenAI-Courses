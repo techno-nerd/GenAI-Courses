{
 "cells": [
  {
   "cell_type": "code",
   "execution_count": 1,
   "metadata": {},
   "outputs": [],
   "source": [
    "import gym\n",
    "# Import packages\n",
    "import numpy as np\n",
    "import torch\n",
    "import torch.nn as nn\n",
    "import torch.optim as optim\n",
    "import torch.nn.functional as F\n",
    "from torch.autograd import Variable\n",
    "from typing import List, Tuple\n",
    "\n",
    "import collections\n",
    "from collections import namedtuple, deque\n",
    "import tqdm\n",
    "import matplotlib.pyplot as plt\n",
    "import random\n",
    "\n",
    "from IPython.display import clear_output\n",
    "from IPython import display\n",
    "\n",
    "%matplotlib inline"
   ]
  },
  {
   "cell_type": "code",
   "execution_count": 2,
   "metadata": {},
   "outputs": [],
   "source": [
    "torch.manual_seed(0)\n",
    "np.random.seed(0)"
   ]
  },
  {
   "cell_type": "code",
   "execution_count": 4,
   "metadata": {},
   "outputs": [
    {
     "name": "stdout",
     "output_type": "stream",
     "text": [
      "Env. simulation complete\n"
     ]
    },
    {
     "name": "stderr",
     "output_type": "stream",
     "text": [
      "/Library/Frameworks/Python.framework/Versions/3.11/lib/python3.11/site-packages/gym/utils/passive_env_checker.py:233: DeprecationWarning: `np.bool8` is a deprecated alias for `np.bool_`.  (Deprecated NumPy 1.24)\n",
      "  if not isinstance(terminated, (bool, np.bool8)):\n"
     ]
    }
   ],
   "source": [
    "# Create CartPole environment\n",
    "env = gym.make('CartPole-v0', render_mode=None)\n",
    "try:\n",
    "    state, _ = env.reset()\n",
    "except:\n",
    "    state = env.reset()\n",
    "\n",
    "# Run the environment for 100 steps\n",
    "for i in range(100):\n",
    "    # Display the current state of the environment\n",
    "    #plt.imshow(env.render())\n",
    "    #display.display(plt.gcf())\n",
    "    #display.clear_output(wait=True)\n",
    "    \n",
    "    # Choose a random action from the action space\n",
    "    action = env.action_space.sample()\n",
    "    \n",
    "    # Take the chosen action and observe the next state, reward, and termination status\n",
    "    state, reward, terminated, truncated, info = env.step(action)\n",
    "    \n",
    "    # If the episode is terminated or truncated, reset the environment\n",
    "    if terminated or truncated:\n",
    "        state, info = env.reset()\n",
    "\n",
    "# Close the environment after exploration\n",
    "env.close()\n",
    "print(\"Env. simulation complete\")"
   ]
  },
  {
   "cell_type": "code",
   "execution_count": 5,
   "metadata": {},
   "outputs": [
    {
     "name": "stderr",
     "output_type": "stream",
     "text": [
      "  0%|          | 0/5 [00:00<?, ?it/s]"
     ]
    },
    {
     "name": "stdout",
     "output_type": "stream",
     "text": [
      "Episode: 0\n",
      "The test reward for episode 0 is 88.05 with a standard deviation of 24.882674695458288.\n",
      "Episode: 10\n",
      "The test reward for episode 10 is 9.4 with a standard deviation of 0.9165151389911681.\n",
      "Episode: 20\n",
      "The test reward for episode 20 is 9.3 with a standard deviation of 0.714142842854285.\n",
      "Episode: 30\n",
      "The test reward for episode 30 is 9.2 with a standard deviation of 0.6782329983125268.\n",
      "Episode: 40\n",
      "The test reward for episode 40 is 18.15 with a standard deviation of 7.122324058900999.\n",
      "Episode: 50\n",
      "The test reward for episode 50 is 13.55 with a standard deviation of 1.8296174463531987.\n",
      "Episode: 60\n",
      "The test reward for episode 60 is 10.85 with a standard deviation of 1.0136567466356647.\n",
      "Episode: 70\n",
      "The test reward for episode 70 is 11.25 with a standard deviation of 1.479019945774904.\n",
      "Episode: 80\n",
      "The test reward for episode 80 is 49.35 with a standard deviation of 31.490117497399087.\n",
      "Episode: 90\n",
      "The test reward for episode 90 is 147.5 with a standard deviation of 45.918950336435174.\n",
      "Episode: 100\n",
      "The test reward for episode 100 is 175.0 with a standard deviation of 43.209952557252365.\n",
      "Episode: 110\n",
      "The test reward for episode 110 is 164.9 with a standard deviation of 47.698951770452986.\n",
      "Episode: 120\n",
      "The test reward for episode 120 is 183.85 with a standard deviation of 30.637028250142013.\n",
      "Episode: 130\n",
      "The test reward for episode 130 is 196.5 with a standard deviation of 15.256146302392358.\n",
      "Episode: 140\n",
      "The test reward for episode 140 is 189.65 with a standard deviation of 19.396584750929737.\n",
      "Episode: 150\n",
      "The test reward for episode 150 is 194.8 with a standard deviation of 9.86711710683521.\n",
      "Episode: 160\n",
      "The test reward for episode 160 is 192.45 with a standard deviation of 18.80817641346444.\n",
      "Episode: 170\n",
      "The test reward for episode 170 is 193.15 with a standard deviation of 21.164297767703044.\n",
      "Episode: 180\n",
      "The test reward for episode 180 is 198.0 with a standard deviation of 4.370354676682432.\n",
      "Episode: 190\n",
      "The test reward for episode 190 is 185.4 with a standard deviation of 22.645970944077447.\n"
     ]
    },
    {
     "name": "stderr",
     "output_type": "stream",
     "text": [
      " 20%|██        | 1/5 [00:25<01:43, 26.00s/it]"
     ]
    },
    {
     "name": "stdout",
     "output_type": "stream",
     "text": [
      "Episode: 0\n",
      "The test reward for episode 0 is 9.35 with a standard deviation of 0.7262919523166976.\n",
      "Episode: 10\n",
      "The test reward for episode 10 is 9.25 with a standard deviation of 0.9420721840708386.\n",
      "Episode: 20\n",
      "The test reward for episode 20 is 9.1 with a standard deviation of 0.7681145747868608.\n",
      "Episode: 30\n",
      "The test reward for episode 30 is 9.3 with a standard deviation of 0.7810249675906654.\n",
      "Episode: 40\n",
      "The test reward for episode 40 is 9.4 with a standard deviation of 0.66332495807108.\n",
      "Episode: 50\n",
      "The test reward for episode 50 is 9.7 with a standard deviation of 0.45825756949558405.\n",
      "Episode: 60\n",
      "The test reward for episode 60 is 9.45 with a standard deviation of 0.5894913061275798.\n",
      "Episode: 70\n",
      "The test reward for episode 70 is 9.2 with a standard deviation of 0.7483314773547882.\n",
      "Episode: 80\n",
      "The test reward for episode 80 is 120.75 with a standard deviation of 59.97489057930827.\n",
      "Episode: 90\n",
      "The test reward for episode 90 is 98.95 with a standard deviation of 45.59218683064018.\n",
      "Episode: 100\n",
      "The test reward for episode 100 is 186.7 with a standard deviation of 23.136767276350426.\n",
      "Episode: 110\n",
      "The test reward for episode 110 is 199.05 with a standard deviation of 3.917588543989784.\n",
      "Episode: 120\n",
      "The test reward for episode 120 is 200.0 with a standard deviation of 0.0.\n",
      "Episode: 130\n",
      "The test reward for episode 130 is 197.1 with a standard deviation of 8.700000000000001.\n",
      "Episode: 140\n",
      "The test reward for episode 140 is 181.9 with a standard deviation of 14.879180084937477.\n",
      "Episode: 150\n",
      "The test reward for episode 150 is 171.4 with a standard deviation of 17.77751388693031.\n",
      "Episode: 160\n",
      "The test reward for episode 160 is 161.75 with a standard deviation of 13.179055353097201.\n",
      "Episode: 170\n",
      "The test reward for episode 170 is 184.85 with a standard deviation of 20.36976926722539.\n",
      "Episode: 180\n",
      "The test reward for episode 180 is 195.9 with a standard deviation of 13.3.\n",
      "Episode: 190\n",
      "The test reward for episode 190 is 187.2 with a standard deviation of 25.947254189990893.\n"
     ]
    },
    {
     "name": "stderr",
     "output_type": "stream",
     "text": [
      " 40%|████      | 2/5 [00:53<01:20, 26.84s/it]"
     ]
    },
    {
     "name": "stdout",
     "output_type": "stream",
     "text": [
      "Episode: 0\n",
      "The test reward for episode 0 is 10.6 with a standard deviation of 1.1135528725660042.\n",
      "Episode: 10\n",
      "The test reward for episode 10 is 9.25 with a standard deviation of 0.5361902647381804.\n",
      "Episode: 20\n",
      "The test reward for episode 20 is 9.2 with a standard deviation of 0.7483314773547882.\n",
      "Episode: 30\n",
      "The test reward for episode 30 is 9.25 with a standard deviation of 0.698212002188447.\n",
      "Episode: 40\n",
      "The test reward for episode 40 is 9.55 with a standard deviation of 0.49749371855331004.\n",
      "Episode: 50\n",
      "The test reward for episode 50 is 27.5 with a standard deviation of 15.008331019803634.\n",
      "Episode: 60\n",
      "The test reward for episode 60 is 27.25 with a standard deviation of 3.1760824926314495.\n",
      "Episode: 70\n",
      "The test reward for episode 70 is 73.35 with a standard deviation of 9.30738953735149.\n",
      "Episode: 80\n",
      "The test reward for episode 80 is 142.15 with a standard deviation of 26.302613938542308.\n",
      "Episode: 90\n",
      "The test reward for episode 90 is 192.3 with a standard deviation of 14.09645345468143.\n",
      "Episode: 100\n",
      "The test reward for episode 100 is 198.6 with a standard deviation of 4.487761134463376.\n",
      "Episode: 110\n",
      "The test reward for episode 110 is 190.9 with a standard deviation of 15.306534552275377.\n",
      "Episode: 120\n",
      "The test reward for episode 120 is 170.05 with a standard deviation of 29.692549570557258.\n",
      "Episode: 130\n",
      "The test reward for episode 130 is 179.6 with a standard deviation of 25.611325619733154.\n",
      "Episode: 140\n",
      "The test reward for episode 140 is 184.4 with a standard deviation of 25.902509530931557.\n",
      "Episode: 150\n",
      "The test reward for episode 150 is 192.0 with a standard deviation of 17.242389625571047.\n",
      "Episode: 160\n",
      "The test reward for episode 160 is 181.85 with a standard deviation of 27.691650366130222.\n",
      "Episode: 170\n",
      "The test reward for episode 170 is 197.35 with a standard deviation of 9.177554140401462.\n",
      "Episode: 180\n",
      "The test reward for episode 180 is 185.45 with a standard deviation of 27.501772670138916.\n",
      "Episode: 190\n",
      "The test reward for episode 190 is 197.9 with a standard deviation of 7.886063656856951.\n"
     ]
    },
    {
     "name": "stderr",
     "output_type": "stream",
     "text": [
      " 60%|██████    | 3/5 [01:20<00:53, 26.75s/it]"
     ]
    },
    {
     "name": "stdout",
     "output_type": "stream",
     "text": [
      "Episode: 0\n",
      "The test reward for episode 0 is 9.4 with a standard deviation of 0.5830951894845301.\n",
      "Episode: 10\n",
      "The test reward for episode 10 is 9.5 with a standard deviation of 0.806225774829855.\n",
      "Episode: 20\n",
      "The test reward for episode 20 is 9.25 with a standard deviation of 0.7664854858377946.\n",
      "Episode: 30\n",
      "The test reward for episode 30 is 9.4 with a standard deviation of 0.7999999999999999.\n",
      "Episode: 40\n",
      "The test reward for episode 40 is 14.0 with a standard deviation of 1.8973665961010275.\n",
      "Episode: 50\n",
      "The test reward for episode 50 is 16.9 with a standard deviation of 2.3000000000000003.\n",
      "Episode: 60\n",
      "The test reward for episode 60 is 47.45 with a standard deviation of 13.388334474459473.\n",
      "Episode: 70\n",
      "The test reward for episode 70 is 55.3 with a standard deviation of 12.981140165640305.\n",
      "Episode: 80\n",
      "The test reward for episode 80 is 191.4 with a standard deviation of 19.47151766041877.\n",
      "Episode: 90\n",
      "The test reward for episode 90 is 194.75 with a standard deviation of 11.152914417317117.\n",
      "Episode: 100\n",
      "The test reward for episode 100 is 188.1 with a standard deviation of 12.778497564267875.\n",
      "Episode: 110\n",
      "The test reward for episode 110 is 195.45 with a standard deviation of 8.083780056384512.\n",
      "Episode: 120\n",
      "The test reward for episode 120 is 189.5 with a standard deviation of 16.524224641416613.\n",
      "Episode: 130\n",
      "The test reward for episode 130 is 184.85 with a standard deviation of 17.808074011526347.\n",
      "Episode: 140\n",
      "The test reward for episode 140 is 187.75 with a standard deviation of 15.588056325276735.\n",
      "Episode: 150\n",
      "The test reward for episode 150 is 149.8 with a standard deviation of 13.381330277666716.\n",
      "Episode: 160\n",
      "The test reward for episode 160 is 165.7 with a standard deviation of 11.489560478973946.\n",
      "Episode: 170\n",
      "The test reward for episode 170 is 196.15 with a standard deviation of 6.46741834119303.\n",
      "Episode: 180\n",
      "The test reward for episode 180 is 197.2 with a standard deviation of 7.187489130426564.\n",
      "Episode: 190\n",
      "The test reward for episode 190 is 197.6 with a standard deviation of 7.2069410986909.\n"
     ]
    },
    {
     "name": "stderr",
     "output_type": "stream",
     "text": [
      " 80%|████████  | 4/5 [01:49<00:27, 27.99s/it]"
     ]
    },
    {
     "name": "stdout",
     "output_type": "stream",
     "text": [
      "Episode: 0\n",
      "The test reward for episode 0 is 9.1 with a standard deviation of 0.6244997998398398.\n",
      "Episode: 10\n",
      "The test reward for episode 10 is 9.5 with a standard deviation of 0.7416198487095663.\n",
      "Episode: 20\n",
      "The test reward for episode 20 is 9.25 with a standard deviation of 0.7664854858377946.\n",
      "Episode: 30\n",
      "The test reward for episode 30 is 9.4 with a standard deviation of 0.5830951894845301.\n",
      "Episode: 40\n",
      "The test reward for episode 40 is 9.25 with a standard deviation of 0.8874119674649424.\n",
      "Episode: 50\n",
      "The test reward for episode 50 is 9.55 with a standard deviation of 0.6689544080129824.\n",
      "Episode: 60\n",
      "The test reward for episode 60 is 9.25 with a standard deviation of 0.7664854858377946.\n",
      "Episode: 70\n",
      "The test reward for episode 70 is 9.4 with a standard deviation of 0.58309518948453.\n",
      "Episode: 80\n",
      "The test reward for episode 80 is 27.55 with a standard deviation of 4.055551750378733.\n",
      "Episode: 90\n",
      "The test reward for episode 90 is 56.4 with a standard deviation of 19.142622599842475.\n",
      "Episode: 100\n",
      "The test reward for episode 100 is 56.05 with a standard deviation of 19.407408379276198.\n",
      "Episode: 110\n",
      "The test reward for episode 110 is 95.8 with a standard deviation of 35.63649814445858.\n",
      "Episode: 120\n",
      "The test reward for episode 120 is 197.75 with a standard deviation of 7.056025793603649.\n",
      "Episode: 130\n",
      "The test reward for episode 130 is 190.4 with a standard deviation of 14.520330574749323.\n",
      "Episode: 140\n",
      "The test reward for episode 140 is 189.85 with a standard deviation of 13.089213116150258.\n",
      "Episode: 150\n",
      "The test reward for episode 150 is 167.6 with a standard deviation of 19.663163529808728.\n",
      "Episode: 160\n",
      "The test reward for episode 160 is 178.3 with a standard deviation of 18.275940468276865.\n",
      "Episode: 170\n",
      "The test reward for episode 170 is 173.6 with a standard deviation of 18.265815065307105.\n",
      "Episode: 180\n",
      "The test reward for episode 180 is 184.15 with a standard deviation of 21.36650415954842.\n",
      "Episode: 190\n",
      "The test reward for episode 190 is 185.8 with a standard deviation of 18.586554279908903.\n"
     ]
    },
    {
     "name": "stderr",
     "output_type": "stream",
     "text": [
      "100%|██████████| 5/5 [02:13<00:00, 26.68s/it]\n"
     ]
    }
   ],
   "source": [
    "# Set environment and training parameters\n",
    "from utils import DQN_Agent\n",
    "\n",
    "env_name = 'CartPole-v0'\n",
    "num_episodes_train = 200\n",
    "num_episodes_test = 20\n",
    "learning_rate = 5e-4\n",
    "\n",
    "# Create the environment\n",
    "env = gym.make(env_name)\n",
    "action_space_size = env.action_space.n\n",
    "state_space_size = 4\n",
    "\n",
    "# Plot average performance of 5 trials\n",
    "num_seeds = 5\n",
    "l = num_episodes_train // 10\n",
    "res = np.zeros((num_seeds, l))\n",
    "gamma = 0.99\n",
    "\n",
    "# Loop over multiple seeds\n",
    "for i in tqdm.tqdm(range(num_seeds)):\n",
    "    reward_means = []\n",
    "\n",
    "    # Create an instance of the DQN_Agent class\n",
    "    agent = DQN_Agent(env_name, lr=learning_rate)\n",
    "\n",
    "    # Training loop\n",
    "    for m in range(num_episodes_train):\n",
    "        agent.train()\n",
    "\n",
    "        # Evaluate the agent every 10 episodes during training\n",
    "        if m % 10 == 0:\n",
    "            print(\"Episode: {}\".format(m))\n",
    "\n",
    "            # Evaluate the agent's performance over 20 test episodes\n",
    "            G = np.zeros(num_episodes_test)\n",
    "            for k in range(num_episodes_test):\n",
    "                g = agent.test()\n",
    "                G[k] = g\n",
    "\n",
    "            reward_mean = G.mean()\n",
    "            reward_sd = G.std()\n",
    "            print(f\"The test reward for episode {m} is {reward_mean} with a standard deviation of {reward_sd}.\")\n",
    "            reward_means.append(reward_mean)\n",
    "\n",
    "    res[i] = np.array(reward_means)"
   ]
  },
  {
   "cell_type": "code",
   "execution_count": 6,
   "metadata": {},
   "outputs": [
    {
     "data": {
      "text/plain": [
       "Text(0, 0.5, 'Avg. Return')"
      ]
     },
     "execution_count": 6,
     "metadata": {},
     "output_type": "execute_result"
    },
    {
     "data": {
      "image/png": "[encoded data removed]",
      "text/plain": [
       "<Figure size 640x480 with 1 Axes>"
      ]
     },
     "metadata": {},
     "output_type": "display_data"
    }
   ],
   "source": [
    "ks = np.arange(l) * 10\n",
    "avs = np.mean(res, axis=0)\n",
    "maxs = np.max(res, axis=0)\n",
    "mins = np.min(res, axis=0)\n",
    "\n",
    "plt.fill_between(ks, mins, maxs, alpha=0.1)\n",
    "plt.plot(ks, avs, '-o', markersize=1)\n",
    "\n",
    "plt.xlabel('Episode', fontsize=15)\n",
    "plt.ylabel('Avg. Return', fontsize=15)"
   ]
  },
  {
   "cell_type": "code",
   "execution_count": 7,
   "metadata": {},
   "outputs": [
    {
     "name": "stdout",
     "output_type": "stream",
     "text": [
      "<class 'DQNAgent.QNetwork'>\n"
     ]
    }
   ],
   "source": [
    "print(type(agent.policy_net))"
   ]
  },
  {
   "cell_type": "code",
   "execution_count": 8,
   "metadata": {},
   "outputs": [],
   "source": [
    "torch.save(agent.policy_net.net.state_dict(), \"model/agent.pt\")"
   ]
  },
  {
   "cell_type": "code",
   "execution_count": 16,
   "metadata": {},
   "outputs": [
    {
     "data": {
      "text/plain": [
       "<All keys matched successfully>"
      ]
     },
     "execution_count": 16,
     "metadata": {},
     "output_type": "execute_result"
    }
   ],
   "source": [
    "from utils import FullyConnectedModel\n",
    "model = FullyConnectedModel(4, 2)\n",
    "model.load_state_dict(torch.load(\"model/agent.pt\"))"
   ]
  },
  {
   "cell_type": "code",
   "execution_count": 17,
   "metadata": {},
   "outputs": [
    {
     "data": {
      "text/plain": [
       "FullyConnectedModel(\n",
       "  (linear1): Linear(in_features=4, out_features=16, bias=True)\n",
       "  (activation1): ReLU()\n",
       "  (linear2): Linear(in_features=16, out_features=16, bias=True)\n",
       "  (activation2): ReLU()\n",
       "  (linear3): Linear(in_features=16, out_features=16, bias=True)\n",
       "  (activation3): ReLU()\n",
       "  (output_layer): Linear(in_features=16, out_features=2, bias=True)\n",
       ")"
      ]
     },
     "execution_count": 17,
     "metadata": {},
     "output_type": "execute_result"
    }
   ],
   "source": [
    "model.eval()"
   ]
  },
  {
   "cell_type": "code",
   "execution_count": 24,
   "metadata": {},
   "outputs": [
    {
     "name": "stdout",
     "output_type": "stream",
     "text": [
      "(array([ 0.0486797 ,  0.01870995,  0.02033729, -0.03671968], dtype=float32), {})\n"
     ]
    }
   ],
   "source": [
    "state = env.reset()\n",
    "print(state)"
   ]
  },
  {
   "cell_type": "code",
   "execution_count": 25,
   "metadata": {},
   "outputs": [
    {
     "data": {
      "text/plain": [
       "array([ 0.0486797 ,  0.01870995,  0.02033729, -0.03671968], dtype=float32)"
      ]
     },
     "execution_count": 25,
     "metadata": {},
     "output_type": "execute_result"
    }
   ],
   "source": [
    "state[0]"
   ]
  },
  {
   "cell_type": "code",
   "execution_count": 26,
   "metadata": {},
   "outputs": [],
   "source": [
    "state = torch.FloatTensor(state[0]).unsqueeze(0)  # Convert state to tensor and add batch dimension"
   ]
  },
  {
   "cell_type": "code",
   "execution_count": 28,
   "metadata": {},
   "outputs": [
    {
     "name": "stdout",
     "output_type": "stream",
     "text": [
      "0\n"
     ]
    }
   ],
   "source": [
    "with torch.no_grad():  # No need to compute gradients for evaluation\n",
    "    action_values = model(state)\n",
    "    action = torch.argmax(action_values).item()\n",
    "    print(action)"
   ]
  },
  {
   "cell_type": "code",
   "execution_count": 30,
   "metadata": {},
   "outputs": [
    {
     "name": "stderr",
     "output_type": "stream",
     "text": [
      "/Library/Frameworks/Python.framework/Versions/3.11/lib/python3.11/site-packages/gym/utils/passive_env_checker.py:233: DeprecationWarning: `np.bool8` is a deprecated alias for `np.bool_`.  (Deprecated NumPy 1.24)\n",
      "  if not isinstance(terminated, (bool, np.bool8)):\n"
     ]
    }
   ],
   "source": [
    "state, reward, terminated, truncated, _ = env.step(action)"
   ]
  },
  {
   "cell_type": "code",
   "execution_count": 32,
   "metadata": {},
   "outputs": [],
   "source": [
    "state = torch.FloatTensor(state).unsqueeze(0)  # Convert state to tensor and add batch dimension"
   ]
  },
  {
   "cell_type": "code",
   "execution_count": 33,
   "metadata": {},
   "outputs": [
    {
     "name": "stdout",
     "output_type": "stream",
     "text": [
      "tensor([[310.1584, 310.7754]])\n"
     ]
    }
   ],
   "source": [
    "with torch.no_grad():  # No need to compute gradients for evaluation\n",
    "    action_values = model(state)\n",
    "    print(action_values)"
   ]
  },
  {
   "cell_type": "code",
   "execution_count": 34,
   "metadata": {},
   "outputs": [
    {
     "name": "stdout",
     "output_type": "stream",
     "text": [
      "1\n"
     ]
    }
   ],
   "source": [
    "with torch.no_grad():  # No need to compute gradients for evaluation\n",
    "    action_values = model(state)\n",
    "    action = torch.argmax(action_values).item()\n",
    "    print(action)"
   ]
  }
 ],
 "metadata": {
  "kernelspec": {
   "display_name": "Python 3",
   "language": "python",
   "name": "python3"
  },
  "language_info": {
   "codemirror_mode": {
    "name": "ipython",
    "version": 3
   },
   "file_extension": ".py",
   "mimetype": "text/x-python",
   "name": "python",
   "nbconvert_exporter": "python",
   "pygments_lexer": "ipython3",
   "version": "3.11.1"
  },
  "orig_nbformat": 4
 },
 "nbformat": 4,
 "nbformat_minor": 2
}
